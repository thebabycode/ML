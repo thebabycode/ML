{
  "nbformat": 4,
  "nbformat_minor": 0,
  "metadata": {
    "colab": {
      "provenance": [],
      "authorship_tag": "ABX9TyMXHJmo2vWlh8dMVLa+E/oT",
      "include_colab_link": true
    },
    "kernelspec": {
      "name": "python3",
      "display_name": "Python 3"
    },
    "language_info": {
      "name": "python"
    }
  },
  "cells": [
    {
      "cell_type": "markdown",
      "metadata": {
        "id": "view-in-github",
        "colab_type": "text"
      },
      "source": [
        "<a href=\"https://colab.research.google.com/github/thebabycode/ML/blob/main/ML_Lab8.ipynb\" target=\"_parent\"><img src=\"https://colab.research.google.com/assets/colab-badge.svg\" alt=\"Open In Colab\"/></a>"
      ]
    },
    {
      "cell_type": "markdown",
      "source": [
        "#1.Use makeblobs() to create a synthetic dataset of 100 samples with 2 classes.Apply SVM based classification and regression  for the synthetic dataset.\n"
      ],
      "metadata": {
        "id": "ZXHO0QgohT6D"
      }
    },
    {
      "cell_type": "code",
      "execution_count": null,
      "metadata": {
        "id": "Jfm0f6jhhNc4"
      },
      "outputs": [],
      "source": [
        "import numpy as np\n",
        "import matplotlib.pyplot as plt\n",
        "from scipy import stats\n",
        "import seaborn as sns;sns.set()"
      ]
    },
    {
      "cell_type": "code",
      "source": [
        "from sklearn.datasets import make_blobs\n",
        "X,y= make_blobs(n_samples=100,centers=2,random_state=0,cluster_std=0.60)\n",
        "plt.scatter(X[:,0],X[:,1],c=y,s=50,cmap=\"autumn\");\n",
        "print(X,y)"
      ],
      "metadata": {
        "colab": {
          "base_uri": "https://localhost:8080/",
          "height": 1000
        },
        "id": "Ig--E-UKV1nG",
        "outputId": "203fc481-c221-448c-e8d8-5f2da7bec5c9"
      },
      "execution_count": null,
      "outputs": [
        {
          "output_type": "stream",
          "name": "stdout",
          "text": [
            "[[ 3.35320909e+00  1.69958043e+00]\n",
            " [ 1.36678633e+00  6.34971633e-01]\n",
            " [ 2.24592863e-01  4.77028154e+00]\n",
            " [ 4.43598630e-01  3.11530945e+00]\n",
            " [ 2.76808540e+00  1.08782923e+00]\n",
            " [ 1.25566754e+00  3.38204112e+00]\n",
            " [ 1.00372519e+00  4.19147702e+00]\n",
            " [ 3.20903274e+00  1.78597253e+00]\n",
            " [ 7.43873988e-01  4.12240568e+00]\n",
            " [ 1.57322172e+00  4.83933793e-01]\n",
            " [ 7.67522789e-01  4.39759671e+00]\n",
            " [ 1.83375842e+00  7.54036153e-01]\n",
            " [ 1.10123507e+00  4.88977075e+00]\n",
            " [ 4.31891060e-01  4.33495456e+00]\n",
            " [ 1.89446550e+00  1.37913750e+00]\n",
            " [ 3.48515439e+00  1.46435135e+00]\n",
            " [ 2.73124907e+00  2.49704755e-01]\n",
            " [ 5.72793810e-01  4.08805543e+00]\n",
            " [ 1.26572308e+00  6.20712897e-01]\n",
            " [ 1.59331788e+00  1.22121317e+00]\n",
            " [ 1.06923853e+00  4.53068484e+00]\n",
            " [ 7.89338559e-01  4.33748653e+00]\n",
            " [ 1.61152972e+00  1.82347242e+00]\n",
            " [ 2.77180174e-01  4.84428322e+00]\n",
            " [ 2.36923352e+00  7.94735861e-01]\n",
            " [ 9.14338767e-01  4.55014643e+00]\n",
            " [ 1.60841463e+00  4.01800537e-01]\n",
            " [ 9.82570091e-01  5.37530962e+00]\n",
            " [ 1.24258802e+00  4.50399192e+00]\n",
            " [ 2.23421043e+00  1.69349520e+00]\n",
            " [ 2.28112284e+00  2.38023186e-01]\n",
            " [ 1.01618041e+00  4.48527047e+00]\n",
            " [ 1.39263752e+00  9.28962707e-01]\n",
            " [ 2.29287155e+00  2.41826755e-01]\n",
            " [ 1.79417539e+00  2.00722190e+00]\n",
            " [ 1.68353782e+00  4.19583243e+00]\n",
            " [ 1.65066793e+00  9.16761995e-01]\n",
            " [ 2.01432256e+00  1.92566929e+00]\n",
            " [ 1.65991049e+00  3.56289184e+00]\n",
            " [ 1.16051297e+00  1.16129868e+00]\n",
            " [ 3.47138300e-01  3.45177657e+00]\n",
            " [ 1.89593761e+00  5.18540259e+00]\n",
            " [-4.74920358e-02  5.47425256e+00]\n",
            " [ 1.21767506e+00  3.89290127e+00]\n",
            " [ 1.35139348e+00  2.06383637e+00]\n",
            " [ 2.15527162e+00  1.27868252e+00]\n",
            " [ 2.03169783e+00  1.96807561e-01]\n",
            " [ 1.84287117e+00  7.26928839e-02]\n",
            " [-1.84892963e-03  4.58145668e+00]\n",
            " [ 7.34363910e-01  5.03725437e+00]\n",
            " [ 1.99619601e+00  4.99576688e-01]\n",
            " [ 1.27955338e+00  1.05789418e+00]\n",
            " [ 1.86922139e+00  5.44132083e+00]\n",
            " [ 1.19008992e+00  4.72773123e+00]\n",
            " [ 2.33812285e+00  3.43116792e+00]\n",
            " [ 1.05241733e+00  4.54498095e+00]\n",
            " [ 2.10616050e+00  3.49513189e+00]\n",
            " [ 1.78194802e+00  9.08151155e-01]\n",
            " [ 2.60778282e+00  1.08890025e+00]\n",
            " [ 2.43040639e+00 -6.35709334e-02]\n",
            " [ 1.67375987e+00  1.30352364e+00]\n",
            " [ 1.54632313e+00  4.21297300e+00]\n",
            " [ 3.33818506e-01  4.93645836e+00]\n",
            " [ 2.45864438e+00  1.14214076e+00]\n",
            " [ 1.06269622e+00  5.17635143e+00]\n",
            " [ 1.75644805e+00  2.05538289e+00]\n",
            " [ 4.53791789e-01  3.95647753e+00]\n",
            " [ 2.09680487e+00  3.71742060e+00]\n",
            " [ 2.71506328e+00  1.29082190e+00]\n",
            " [ 1.49493180e+00  3.85848832e+00]\n",
            " [ 1.16411070e+00  3.79132988e+00]\n",
            " [ 1.80709613e+00  4.49190773e-01]\n",
            " [ 3.17580290e+00  1.44129045e+00]\n",
            " [ 1.41372442e+00  4.38117707e+00]\n",
            " [ 4.88382309e-01  3.26801777e+00]\n",
            " [ 5.95676822e-01  4.08614263e+00]\n",
            " [ 1.43472182e+00  1.30662037e+00]\n",
            " [ 2.42371514e+00  1.45098766e+00]\n",
            " [ 6.70478769e-01  4.04094275e+00]\n",
            " [ 9.59360742e-01  4.56078645e+00]\n",
            " [ 1.53853211e+00  2.04370263e+00]\n",
            " [ 1.08272576e+00  4.06271877e+00]\n",
            " [ 2.13979079e-01  4.88542535e+00]\n",
            " [ 1.43289271e+00  4.37679234e+00]\n",
            " [ 6.69786996e-01  3.59540802e+00]\n",
            " [ 4.38990142e-01  4.53592883e+00]\n",
            " [ 2.62361870e+00  8.04657604e-01]\n",
            " [ 1.71444449e+00  5.02521524e+00]\n",
            " [ 1.63852681e+00  8.07882936e-01]\n",
            " [ 2.40122201e+00  7.72684407e-01]\n",
            " [ 2.51834185e+00  1.39176615e+00]\n",
            " [ 2.56936589e+00  5.07048304e-01]\n",
            " [ 1.50757419e+00  1.56787343e+00]\n",
            " [ 1.45513831e+00 -2.91989981e-02]\n",
            " [ 1.87271752e+00  4.18069237e+00]\n",
            " [-5.55523811e-01  4.69595848e+00]\n",
            " [ 1.66909648e+00 -4.36378231e-01]\n",
            " [ 2.62492001e+00  9.50194405e-01]\n",
            " [ 7.93137001e-03  4.17614316e+00]\n",
            " [ 1.32000621e+00  1.40428145e+00]] [1 1 0 0 1 0 0 1 0 1 0 1 0 0 1 1 1 0 1 1 0 0 1 0 1 0 1 0 0 1 1 0 1 1 1 0 1\n",
            " 1 0 1 0 0 0 0 1 1 1 1 0 0 1 1 0 0 0 0 0 1 1 1 1 0 0 1 0 1 0 0 1 0 0 1 1 0\n",
            " 0 0 1 1 0 0 1 0 0 0 0 0 1 0 1 1 1 1 1 1 0 0 1 1 0 1]\n"
          ]
        },
        {
          "output_type": "display_data",
          "data": {
            "text/plain": [
              "<Figure size 432x288 with 1 Axes>"
            ],
            "image/png": "[encoded data removed]"
          },
          "metadata": {}
        }
      ]
    },
    {
      "cell_type": "code",
      "source": [
        "# Import train_test_split function\n",
        "from sklearn.model_selection import train_test_split\n",
        "\n",
        "# Split dataset into training set and test set\n",
        "X_train, X_test, y_train, y_test = train_test_split(X,y, test_size=0.2,random_state=109) # 70% training and 30% test\n"
      ],
      "metadata": {
        "id": "_6s3_XZxWBxF"
      },
      "execution_count": null,
      "outputs": []
    },
    {
      "cell_type": "code",
      "source": [
        "#Import svm model\n",
        "from sklearn import svm\n",
        "\n",
        "#Create a svm Classifier\n",
        "clf = svm.SVC(kernel='linear') # Linear Kernel\n",
        "\n",
        "#Train the model using the training sets\n",
        "clf.fit(X_train, y_train)\n",
        "\n",
        "#Predict the response for test dataset\n",
        "y_pred = clf.predict(X_test)\n"
      ],
      "metadata": {
        "id": "jj15bMNWWG0m"
      },
      "execution_count": null,
      "outputs": []
    },
    {
      "cell_type": "code",
      "source": [
        "#Import scikit-learn metrics module for accuracy calculation\n",
        "from sklearn import metrics\n",
        "\n",
        "# Model Accuracy: how often is the classifier correct?\n",
        "print(\"Accuracy:\",metrics.accuracy_score(y_test, y_pred))\n"
      ],
      "metadata": {
        "colab": {
          "base_uri": "https://localhost:8080/"
        },
        "id": "491OM2v_WGkk",
        "outputId": "e37ba88a-fca3-4af4-b46d-af1fe32b5d22"
      },
      "execution_count": null,
      "outputs": [
        {
          "output_type": "stream",
          "name": "stdout",
          "text": [
            "Accuracy: 1.0\n"
          ]
        }
      ]
    },
    {
      "cell_type": "code",
      "source": [
        "# Model Precision: what percentage of positive tuples are labeled as such?\n",
        "print(\"Precision:\",metrics.precision_score(y_test, y_pred))\n",
        "\n",
        "# Model Recall: what percentage of positive tuples are labelled as such?\n",
        "print(\"Recall:\",metrics.recall_score(y_test, y_pred))\n"
      ],
      "metadata": {
        "colab": {
          "base_uri": "https://localhost:8080/"
        },
        "id": "5mbw-F5uWMNy",
        "outputId": "75f1b4c4-1d34-4728-8167-13eaf6f635ac"
      },
      "execution_count": null,
      "outputs": [
        {
          "output_type": "stream",
          "name": "stdout",
          "text": [
            "Precision: 1.0\n",
            "Recall: 1.0\n"
          ]
        }
      ]
    },
    {
      "cell_type": "code",
      "source": [
        "y_pred = clf.predict(X_test)"
      ],
      "metadata": {
        "id": "9gANq4q-XiM2"
      },
      "execution_count": null,
      "outputs": []
    },
    {
      "cell_type": "code",
      "source": [
        "from sklearn.metrics import classification_report, confusion_matrix\n",
        "print(confusion_matrix(y_test,y_pred))\n",
        "print(classification_report(y_test,y_pred))"
      ],
      "metadata": {
        "colab": {
          "base_uri": "https://localhost:8080/"
        },
        "id": "LKoVEfz3Xzce",
        "outputId": "c2101e4c-e19c-4623-e32c-7980b6a56d4d"
      },
      "execution_count": null,
      "outputs": [
        {
          "output_type": "stream",
          "name": "stdout",
          "text": [
            "[[11  0]\n",
            " [ 0  9]]\n",
            "              precision    recall  f1-score   support\n",
            "\n",
            "           0       1.00      1.00      1.00        11\n",
            "           1       1.00      1.00      1.00         9\n",
            "\n",
            "    accuracy                           1.00        20\n",
            "   macro avg       1.00      1.00      1.00        20\n",
            "weighted avg       1.00      1.00      1.00        20\n",
            "\n"
          ]
        }
      ]
    },
    {
      "cell_type": "code",
      "source": [
        "import numpy as np\n",
        "from sklearn.linear_model import LinearRegression"
      ],
      "metadata": {
        "id": "bPgVM9DynKEf"
      },
      "execution_count": null,
      "outputs": []
    },
    {
      "cell_type": "code",
      "source": [
        "model = LinearRegression()"
      ],
      "metadata": {
        "id": "U-CzD5B0nJ3X"
      },
      "execution_count": null,
      "outputs": []
    },
    {
      "cell_type": "code",
      "source": [
        "model.fit(X, y)"
      ],
      "metadata": {
        "colab": {
          "base_uri": "https://localhost:8080/"
        },
        "id": "27ECWEMknJt4",
        "outputId": "526cf415-459a-4915-8482-c65f529d5244"
      },
      "execution_count": null,
      "outputs": [
        {
          "output_type": "execute_result",
          "data": {
            "text/plain": [
              "LinearRegression()"
            ]
          },
          "metadata": {},
          "execution_count": 42
        }
      ]
    },
    {
      "cell_type": "code",
      "source": [
        "model = LinearRegression().fit(X, y)"
      ],
      "metadata": {
        "id": "Tep71J4tnYjG"
      },
      "execution_count": null,
      "outputs": []
    },
    {
      "cell_type": "code",
      "source": [
        "r_sq = model.score(X, y)\n",
        "print(f\"coefficient of determination: {r_sq}\")"
      ],
      "metadata": {
        "colab": {
          "base_uri": "https://localhost:8080/"
        },
        "id": "fno7xBsHnaAe",
        "outputId": "e3aa2924-4799-40cc-e7e4-c77999d36e5a"
      },
      "execution_count": null,
      "outputs": [
        {
          "output_type": "stream",
          "name": "stdout",
          "text": [
            "coefficient of determination: 0.8929245664785215\n"
          ]
        }
      ]
    },
    {
      "cell_type": "code",
      "source": [
        "print(f\"intercept: {model.intercept_}\")\n",
        "\n",
        "print(f\"slope: {model.coef_}\")\n"
      ],
      "metadata": {
        "colab": {
          "base_uri": "https://localhost:8080/"
        },
        "id": "g7EfILAXnbn2",
        "outputId": "df41b438-521b-4748-cf07-08a6dded881e"
      },
      "execution_count": null,
      "outputs": [
        {
          "output_type": "stream",
          "name": "stdout",
          "text": [
            "intercept: 1.0572051773275974\n",
            "slope: [ 0.0686877  -0.24707847]\n"
          ]
        }
      ]
    },
    {
      "cell_type": "code",
      "source": [
        "new_model = LinearRegression().fit(X, y.reshape((-1, 1)))\n",
        "print(f\"intercept: {new_model.intercept_}\")\n",
        "\n",
        "print(f\"slope: {new_model.coef_}\")"
      ],
      "metadata": {
        "colab": {
          "base_uri": "https://localhost:8080/"
        },
        "id": "uwvsJR6wnc0t",
        "outputId": "23e87d36-2143-40d7-e08e-bfc0477fb700"
      },
      "execution_count": null,
      "outputs": [
        {
          "output_type": "stream",
          "name": "stdout",
          "text": [
            "intercept: [1.05720518]\n",
            "slope: [[ 0.0686877  -0.24707847]]\n"
          ]
        }
      ]
    },
    {
      "cell_type": "code",
      "source": [
        "y_pred = model.predict(X)\n",
        "print(f\"predicted response:\\n{y_pred}\")"
      ],
      "metadata": {
        "colab": {
          "base_uri": "https://localhost:8080/"
        },
        "id": "FmjpWRR_nh1K",
        "outputId": "a7843cdf-002c-426d-8486-701208e8bc99"
      },
      "execution_count": null,
      "outputs": [
        {
          "output_type": "stream",
          "name": "stdout",
          "text": [
            "predicted response:\n",
            "[ 0.86759967  0.99419877 -0.10600193  0.31794905  0.97855942  0.30782455\n",
            "  0.09052502  0.8363509   0.08974248  1.04569654  0.02337308  0.99685573\n",
            " -0.0753106   0.01579683  0.84657647  0.93478273  1.18311173  0.08647858\n",
            "  0.99077999  0.86491104  0.01121403  0.03972349  0.71735667 -0.12067405\n",
            "  1.02358026 -0.00423422  1.06840722 -0.20342763  0.02971625  0.79224175\n",
            "  1.15507986  0.0187905   0.92333556  1.15494707  0.68450164  0.13614366\n",
            "  0.94407361  0.71977294  0.29090675  0.84998624  0.22818963 -0.09376857\n",
            " -0.2986269   0.17899238  0.64009975  0.88931091  1.14813092  1.16582692\n",
            " -0.07490113 -0.13695016  1.07088465  0.88371188 -0.15883553 -0.02917089\n",
            "  0.37003774  0.00652636  0.33830066  0.95521849  0.96728398  1.23985121\n",
            "  0.85009927  0.12248363 -0.13955818  0.94388541 -0.14876566  0.67001069\n",
            "  0.11081467  0.28273529  0.92476233  0.20653921  0.20040927  1.07034509\n",
            "  0.91923194  0.07181612  0.2832942   0.08852298  0.83291516  0.86517679\n",
            "  0.10482887 -0.00377068  0.65792849  0.12776478 -0.13518052  0.07421612\n",
            "  0.21486339 -0.03337196  1.03860194 -0.06665607  0.97014134  1.03122592\n",
            "  0.88630884  1.10840829  0.77336921  1.16436973  0.15287876 -0.14122272\n",
            "  1.27967124  1.00273232  0.0259149   0.80090566]\n"
          ]
        }
      ]
    },
    {
      "cell_type": "code",
      "source": [
        "y_pred = model.intercept_ + model.coef_ * X\n",
        "print(f\"predicted response:\\n{y_pred}\")"
      ],
      "metadata": {
        "colab": {
          "base_uri": "https://localhost:8080/"
        },
        "id": "3Vy5nlHgnsfL",
        "outputId": "4835e1d6-491c-4cbe-cc99-19214844db68"
      },
      "execution_count": null,
      "outputs": [
        {
          "output_type": "stream",
          "name": "stdout",
          "text": [
            "predicted response:\n",
            "[[ 1.2875294   0.63727544]\n",
            " [ 1.15108659  0.90031736]\n",
            " [ 1.07263194 -0.12142869]\n",
            " [ 1.08767495  0.28747928]\n",
            " [ 1.2473386   0.78842599]\n",
            " [ 1.14345409  0.22157563]\n",
            " [ 1.12614875  0.02158144]\n",
            " [ 1.27762626  0.61592981]\n",
            " [ 1.10830017  0.03864748]\n",
            " [ 1.16526616  0.93763556]\n",
            " [ 1.10992455 -0.02934629]\n",
            " [ 1.18316183  0.87089908]\n",
            " [ 1.13284648 -0.1509519 ]\n",
            " [ 1.08687078 -0.01386877]\n",
            " [ 1.18733166  0.71644999]\n",
            " [ 1.29659242  0.69539548]\n",
            " [ 1.2448084   0.99550851]\n",
            " [ 1.09654907  0.04713469]\n",
            " [ 1.14414479  0.90384038]\n",
            " [ 1.16664652  0.75546969]\n",
            " [ 1.13064871 -0.06222951]\n",
            " [ 1.11142303 -0.01449436]\n",
            " [ 1.16789745  0.6066644 ]\n",
            " [ 1.07624405 -0.13971292]\n",
            " [ 1.21994238  0.86084306]\n",
            " [ 1.12000901 -0.06703805]\n",
            " [ 1.16768348  0.95792891]\n",
            " [ 1.12469566 -0.27091811]\n",
            " [ 1.14255569 -0.05563426]\n",
            " [ 1.21066796  0.63877897]\n",
            " [ 1.21389026  0.99839477]\n",
            " [ 1.12700427 -0.05100859]\n",
            " [ 1.15286225  0.82767849]\n",
            " [ 1.21469725  0.99745499]\n",
            " [ 1.18044296  0.56126386]\n",
            " [ 1.17284352  0.02050532]\n",
            " [ 1.17058576  0.83069303]\n",
            " [ 1.19556436  0.58141375]\n",
            " [ 1.17122061  0.17689131]\n",
            " [ 1.13691815  0.77027327]\n",
            " [ 1.08104931  0.2043455 ]\n",
            " [ 1.18743277 -0.22399617]\n",
            " [ 1.05394306 -0.29536478]\n",
            " [ 1.14084448  0.09535308]\n",
            " [ 1.15002929  0.54727564]\n",
            " [ 1.20524583  0.74127025]\n",
            " [ 1.19675783  1.00857827]\n",
            " [ 1.18378776  1.03924433]\n",
            " [ 1.05707818 -0.07477414]\n",
            " [ 1.10764695 -0.18739193]\n",
            " [ 1.19431929  0.93377053]\n",
            " [ 1.14509476  0.7958223 ]\n",
            " [ 1.1855977  -0.28722806]\n",
            " [ 1.13894972 -0.11091543]\n",
            " [ 1.21780546  0.20943745]\n",
            " [ 1.1294933  -0.06576177]\n",
            " [ 1.2018725   0.19363333]\n",
            " [ 1.17960309  0.83282058]\n",
            " [ 1.23632778  0.78816137]\n",
            " [ 1.22414421  1.07291219]\n",
            " [ 1.1721719   0.73513255]\n",
            " [ 1.16341856  0.01627025]\n",
            " [ 1.0801344  -0.16248741]\n",
            " [ 1.22608381  0.77500678]\n",
            " [ 1.13019934 -0.22175982]\n",
            " [ 1.17785156  0.54936431]\n",
            " [ 1.08837509  0.07964476]\n",
            " [ 1.20122988  0.13871058]\n",
            " [ 1.24369663  0.73827088]\n",
            " [ 1.15988861  0.10385578]\n",
            " [ 1.13716527  0.12044919]\n",
            " [ 1.18133046  0.94621981]\n",
            " [ 1.27534378  0.70109334]\n",
            " [ 1.15431066 -0.02528936]\n",
            " [ 1.09075104  0.24974834]\n",
            " [ 1.09812085  0.0476073 ]\n",
            " [ 1.15575292  0.73436741]\n",
            " [ 1.2236846   0.69869736]\n",
            " [ 1.10325882  0.05877522]\n",
            " [ 1.12310146 -0.06966697]\n",
            " [ 1.16288341  0.55225026]\n",
            " [ 1.13157512  0.05339484]\n",
            " [ 1.07190291 -0.14987825]\n",
            " [ 1.15562728 -0.02420598]\n",
            " [ 1.10321131  0.16885726]\n",
            " [ 1.0873584  -0.06352518]\n",
            " [ 1.23741552  0.85839161]\n",
            " [ 1.17496643 -0.18441732]\n",
            " [ 1.16975182  0.8575947 ]\n",
            " [ 1.2221396   0.8662915 ]\n",
            " [ 1.23018429  0.71332972]\n",
            " [ 1.23368901  0.93192446]\n",
            " [ 1.16075698  0.66981741]\n",
            " [ 1.15715528  1.06441962]\n",
            " [ 1.18583784  0.0242461 ]\n",
            " [ 1.01904752 -0.10306507]\n",
            " [ 1.17185158  1.16502484]\n",
            " [ 1.2375049   0.8224326 ]\n",
            " [ 1.05774996  0.02537011]\n",
            " [ 1.14787337  0.71023746]]\n"
          ]
        }
      ]
    },
    {
      "cell_type": "code",
      "source": [
        "x_new = np.arange(5).reshape((-1, 1))\n",
        "x_new\n"
      ],
      "metadata": {
        "colab": {
          "base_uri": "https://localhost:8080/"
        },
        "id": "o4Zp4PXRnvg2",
        "outputId": "020d9cf0-81fd-4d2c-ae59-efe118b3f316"
      },
      "execution_count": null,
      "outputs": [
        {
          "output_type": "execute_result",
          "data": {
            "text/plain": [
              "array([[0],\n",
              "       [1],\n",
              "       [2],\n",
              "       [3],\n",
              "       [4]])"
            ]
          },
          "metadata": {},
          "execution_count": 49
        }
      ]
    },
    {
      "cell_type": "markdown",
      "source": [],
      "metadata": {
        "id": "miSHRkW8pSHn"
      }
    },
    {
      "cell_type": "markdown",
      "source": [
        "2. Explore the performance of the model with various kernels and discuss the role of hyper parameters"
      ],
      "metadata": {
        "id": "07ODfIvXpV-G"
      }
    },
    {
      "cell_type": "markdown",
      "source": [
        "#LINER SVM"
      ],
      "metadata": {
        "id": "L6WQXA8KnFcZ"
      }
    },
    {
      "cell_type": "code",
      "source": [
        "from sklearn.svm import SVC\n",
        "svclassifier = SVC(kernel='linear')\n",
        "svclassifier.fit(X_train, y_train)"
      ],
      "metadata": {
        "colab": {
          "base_uri": "https://localhost:8080/"
        },
        "id": "FVnTiUGemhvY",
        "outputId": "06f74fdc-7104-4ee9-d5ac-cbbad8ed51fb"
      },
      "execution_count": null,
      "outputs": [
        {
          "output_type": "execute_result",
          "data": {
            "text/plain": [
              "SVC(kernel='linear')"
            ]
          },
          "metadata": {},
          "execution_count": 50
        }
      ]
    },
    {
      "cell_type": "code",
      "source": [
        "y_pred = svclassifier.predict(X_test)"
      ],
      "metadata": {
        "id": "ahZHM8vvmhrv"
      },
      "execution_count": null,
      "outputs": []
    },
    {
      "cell_type": "code",
      "source": [
        "from sklearn.metrics import classification_report, confusion_matrix\n",
        "print(confusion_matrix(y_test,y_pred))\n",
        "print(classification_report(y_test,y_pred))"
      ],
      "metadata": {
        "colab": {
          "base_uri": "https://localhost:8080/"
        },
        "id": "_OrkjMe4mhpf",
        "outputId": "6e9fa183-f409-46da-8e59-31dc35a45c64"
      },
      "execution_count": null,
      "outputs": [
        {
          "output_type": "stream",
          "name": "stdout",
          "text": [
            "[[11  0]\n",
            " [ 0  9]]\n",
            "              precision    recall  f1-score   support\n",
            "\n",
            "           0       1.00      1.00      1.00        11\n",
            "           1       1.00      1.00      1.00         9\n",
            "\n",
            "    accuracy                           1.00        20\n",
            "   macro avg       1.00      1.00      1.00        20\n",
            "weighted avg       1.00      1.00      1.00        20\n",
            "\n"
          ]
        }
      ]
    },
    {
      "cell_type": "markdown",
      "source": [
        "#POLYNOMIAL KERNAL"
      ],
      "metadata": {
        "id": "Z2vE29HRngcS"
      }
    },
    {
      "cell_type": "code",
      "source": [
        "from sklearn.svm import SVC\n",
        "svclassifier = SVC(kernel='poly', degree=8)\n",
        "svclassifier.fit(X_train, y_train)"
      ],
      "metadata": {
        "colab": {
          "base_uri": "https://localhost:8080/"
        },
        "id": "bcpS6WLxmhkM",
        "outputId": "ec0c4df1-226f-44d6-e5e3-686ab1bbe6a8"
      },
      "execution_count": null,
      "outputs": [
        {
          "output_type": "execute_result",
          "data": {
            "text/plain": [
              "SVC(degree=8, kernel='poly')"
            ]
          },
          "metadata": {},
          "execution_count": 53
        }
      ]
    },
    {
      "cell_type": "code",
      "source": [
        "y_pred = svclassifier.predict(X_test)"
      ],
      "metadata": {
        "id": "76HygdYhmhaS"
      },
      "execution_count": null,
      "outputs": []
    },
    {
      "cell_type": "code",
      "source": [
        "from sklearn.metrics import classification_report, confusion_matrix\n",
        "print(confusion_matrix(y_test, y_pred))\n",
        "print(classification_report(y_test, y_pred))"
      ],
      "metadata": {
        "colab": {
          "base_uri": "https://localhost:8080/"
        },
        "id": "agp7NZarmhI5",
        "outputId": "9598012a-135b-45c8-c480-fedbd5c9a10b"
      },
      "execution_count": null,
      "outputs": [
        {
          "output_type": "stream",
          "name": "stdout",
          "text": [
            "[[11  0]\n",
            " [ 0  9]]\n",
            "              precision    recall  f1-score   support\n",
            "\n",
            "           0       1.00      1.00      1.00        11\n",
            "           1       1.00      1.00      1.00         9\n",
            "\n",
            "    accuracy                           1.00        20\n",
            "   macro avg       1.00      1.00      1.00        20\n",
            "weighted avg       1.00      1.00      1.00        20\n",
            "\n"
          ]
        }
      ]
    },
    {
      "cell_type": "markdown",
      "source": [
        "#2. Gaussian Kernel\n"
      ],
      "metadata": {
        "id": "FJDMZMVbnuQV"
      }
    },
    {
      "cell_type": "code",
      "source": [
        "from sklearn.svm import SVC\n",
        "svclassifier = SVC(kernel='rbf')\n",
        "svclassifier.fit(X_train, y_train)"
      ],
      "metadata": {
        "colab": {
          "base_uri": "https://localhost:8080/"
        },
        "id": "jGyZhahQnwVf",
        "outputId": "b8454e6e-cfd0-4487-cbd3-7b98a763280f"
      },
      "execution_count": null,
      "outputs": [
        {
          "output_type": "execute_result",
          "data": {
            "text/plain": [
              "SVC()"
            ]
          },
          "metadata": {},
          "execution_count": 56
        }
      ]
    },
    {
      "cell_type": "code",
      "source": [
        "y_pred = svclassifier.predict(X_test)"
      ],
      "metadata": {
        "id": "UbAUBnsknw0Z"
      },
      "execution_count": null,
      "outputs": []
    },
    {
      "cell_type": "code",
      "source": [
        "from sklearn.metrics import classification_report, confusion_matrix\n",
        "print(confusion_matrix(y_test, y_pred))\n",
        "print(classification_report(y_test, y_pred))"
      ],
      "metadata": {
        "colab": {
          "base_uri": "https://localhost:8080/"
        },
        "id": "LdgqB_ZZnwxR",
        "outputId": "c9d55bfe-4181-4cd3-f8e8-eacd7982cd36"
      },
      "execution_count": null,
      "outputs": [
        {
          "output_type": "stream",
          "name": "stdout",
          "text": [
            "[[11  0]\n",
            " [ 0  9]]\n",
            "              precision    recall  f1-score   support\n",
            "\n",
            "           0       1.00      1.00      1.00        11\n",
            "           1       1.00      1.00      1.00         9\n",
            "\n",
            "    accuracy                           1.00        20\n",
            "   macro avg       1.00      1.00      1.00        20\n",
            "weighted avg       1.00      1.00      1.00        20\n",
            "\n"
          ]
        }
      ]
    },
    {
      "cell_type": "markdown",
      "source": [
        "#Sigmoid Kernel"
      ],
      "metadata": {
        "id": "LLV1uo9poMep"
      }
    },
    {
      "cell_type": "code",
      "source": [
        "from sklearn.svm import SVC\n",
        "svclassifier = SVC(kernel='sigmoid')\n",
        "svclassifier.fit(X_train, y_train)"
      ],
      "metadata": {
        "colab": {
          "base_uri": "https://localhost:8080/"
        },
        "id": "h9vwO25YnwsL",
        "outputId": "91a60cdf-d3c1-4371-c961-24268eb18575"
      },
      "execution_count": null,
      "outputs": [
        {
          "output_type": "execute_result",
          "data": {
            "text/plain": [
              "SVC(kernel='sigmoid')"
            ]
          },
          "metadata": {},
          "execution_count": 59
        }
      ]
    },
    {
      "cell_type": "code",
      "source": [
        "y_pred = svclassifier.predict(X_test)"
      ],
      "metadata": {
        "id": "AktpkcFEnwiK"
      },
      "execution_count": null,
      "outputs": []
    },
    {
      "cell_type": "code",
      "source": [
        "from sklearn.metrics import classification_report, confusion_matrix\n",
        "print(confusion_matrix(y_test, y_pred))\n",
        "print(classification_report(y_test, y_pred))"
      ],
      "metadata": {
        "colab": {
          "base_uri": "https://localhost:8080/"
        },
        "id": "LYorLR6AoSqM",
        "outputId": "3bd91cfd-5d20-4b82-b78d-4e44984690aa"
      },
      "execution_count": null,
      "outputs": [
        {
          "output_type": "stream",
          "name": "stdout",
          "text": [
            "[[5 6]\n",
            " [3 6]]\n",
            "              precision    recall  f1-score   support\n",
            "\n",
            "           0       0.62      0.45      0.53        11\n",
            "           1       0.50      0.67      0.57         9\n",
            "\n",
            "    accuracy                           0.55        20\n",
            "   macro avg       0.56      0.56      0.55        20\n",
            "weighted avg       0.57      0.55      0.55        20\n",
            "\n"
          ]
        }
      ]
    },
    {
      "cell_type": "markdown",
      "source": [
        "#HYPER PARAMETERS"
      ],
      "metadata": {
        "id": "8sAwlTbupuND"
      }
    },
    {
      "cell_type": "markdown",
      "source": [
        "Hyperparameters\n",
        "Hyperparameters are parameters whose values control the learning process and determine the values of model parameters that a learning algorithm ends up learning. The prefix ‘hyper_’ suggests that they are ‘top-level’ parameters that control the learning process and the model parameters that result from it.\n",
        "\n",
        "As a machine learning engineer designing a model, you choose and set hyperparameter values that your learning algorithm will use before the training of the model even begins. In this light, hyperparameters are said to be external to the model because the model cannot change its values during learning/training.\n",
        "\n",
        "Hyperparameters are used by the learning algorithm when it is learning but they are not part of the resulting model. At the end of the learning process, we have the trained model parameters which effectively is what we refer to as the model. The hyperparameters that were used during training are not part of this model. We cannot for instance know what hyperparameter values were used to train a model from the model itself, we only know the model parameters that were learned.\n",
        "\n",
        "Basically, anything in machine learning and deep learning that you decide their values or choose their configuration before training begins and whose values or configuration will remain the same when training ends is a hyperparameter.\n",
        "\n"
      ],
      "metadata": {
        "id": "sn9FlRyIpqpr"
      }
    },
    {
      "cell_type": "markdown",
      "source": [
        "Here are some common examples\n",
        "**Train-test split ratio**\n",
        "**Learning rate in optimization algorithms** (e.g. gradient descent)\n",
        "Choice of **optimization algorithm** (e.g., gradient descent, stochastic gradient descent, or Adam optimizer)\n",
        "Choice of **activation function in a neural network **(nn) layer (e.g. Sigmoid, ReLU, Tanh)\n",
        "The choice of **cost or loss function the model will use**\n",
        "Number of hidden layers in a nn\n",
        "Number of activation units in each layer\n",
        "The drop-out rate in nn (dropout probability)\n",
        "Number of iterations (epochs) in training a nn\n",
        "Number of clusters in a clustering task\n",
        "Kernel or filter size in convolutional layers\n",
        "Pooling size\n",
        "Batch size"
      ],
      "metadata": {
        "id": "Hfqlm1UZp97L"
      }
    }
  ]
}